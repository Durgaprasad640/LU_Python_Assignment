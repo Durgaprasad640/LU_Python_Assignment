{
 "cells": [
  {
   "cell_type": "code",
   "execution_count": 4,
   "metadata": {},
   "outputs": [
    {
     "name": "stdout",
     "output_type": "stream",
     "text": [
      "[1, 1, 1, 2, 2, 3, 4, 4, 10, 56, 56, 0, 0, 0, 0, 0]\n"
     ]
    }
   ],
   "source": [
    "'''\n",
    "Q1) Sort the given list acending order but zeros should be in right hand side\n",
    "'''\n",
    "list1=[0,1,2,10,4,1,0,56,2,0,1,3,0,56,0,4]\n",
    "list1.sort()\n",
    "list2=[]\n",
    "for i in range(len(list1)):\n",
    "    if list1[i]==0:\n",
    "        list2.append(0)\n",
    "for i in range(len(list2)):\n",
    "    list1.remove(0)\n",
    "print(list1+list2)"
   ]
  },
  {
   "cell_type": "code",
   "execution_count": 5,
   "metadata": {},
   "outputs": [
    {
     "name": "stdout",
     "output_type": "stream",
     "text": [
      "[5, 10, 15, 20, 25, 35, 40, 45, 60, 60, 70, 80]\n"
     ]
    }
   ],
   "source": [
    "'''\n",
    "Q2) Merge Two sorted list using only one loop and without using sort().\n",
    "'''\n",
    "list3=[10,20,40,60,70,80]\n",
    "list4=[5,15,25,35,45,60]\n",
    "list5=list3+list4\n",
    "list6=[]\n",
    "A=len(list5)-1\n",
    "i=0\n",
    "while(i<=A):\n",
    "    B=min(list5)\n",
    "    list6.append(B)\n",
    "    list5.remove(B)\n",
    "    i=i+1\n",
    "print(list6)"
   ]
  },
  {
   "cell_type": "code",
   "execution_count": null,
   "metadata": {},
   "outputs": [],
   "source": []
  }
 ],
 "metadata": {
  "kernelspec": {
   "display_name": "Python 3",
   "language": "python",
   "name": "python3"
  },
  "language_info": {
   "codemirror_mode": {
    "name": "ipython",
    "version": 3
   },
   "file_extension": ".py",
   "mimetype": "text/x-python",
   "name": "python",
   "nbconvert_exporter": "python",
   "pygments_lexer": "ipython3",
   "version": "3.7.6"
  }
 },
 "nbformat": 4,
 "nbformat_minor": 4
}

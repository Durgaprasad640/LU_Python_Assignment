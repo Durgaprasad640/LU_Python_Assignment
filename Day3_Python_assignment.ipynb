{
 "cells": [
  {
   "cell_type": "code",
   "execution_count": 7,
   "metadata": {},
   "outputs": [
    {
     "name": "stdout",
     "output_type": "stream",
     "text": [
      "Enter the number > 8\n",
      "36\n"
     ]
    }
   ],
   "source": [
    "## Q1) Sum of n numbers\n",
    "n1=int(input(\"Enter the number > \"))\n",
    "i=0\n",
    "k=1\n",
    "while(k <= n1):\n",
    "    i = i+k\n",
    "    k = k+1\n",
    "print(i)"
   ]
  },
  {
   "cell_type": "code",
   "execution_count": 8,
   "metadata": {},
   "outputs": [
    {
     "name": "stdout",
     "output_type": "stream",
     "text": [
      "Enter the number > 6\n",
      "Not prime number\n"
     ]
    }
   ],
   "source": [
    "## Q2) Finding the number Prime or Not\n",
    "n2=int(input(\"Enter the number > \"))\n",
    "if n2>0:\n",
    "    for i in range(2,n2):\n",
    "        if n2 % i ==0:\n",
    "            print(\"Not prime number\")\n",
    "            break\n",
    "    else:\n",
    "        print(\"Prime number\")\n",
    "else:\n",
    "    print(\"Not prime number\")"
   ]
  },
  {
   "cell_type": "code",
   "execution_count": 9,
   "metadata": {},
   "outputs": [
    {
     "name": "stdout",
     "output_type": "stream",
     "text": [
      "Enter the number > 47\n",
      "Prime number\n"
     ]
    }
   ],
   "source": [
    "## Q2) Finding the number Prime or Not\n",
    "n2=int(input(\"Enter the number > \"))\n",
    "if n2>0:\n",
    "    for i in range(2,n2):\n",
    "        if n2 % i ==0:\n",
    "            print(\"Not prime number\")\n",
    "            break\n",
    "    else:\n",
    "        print(\"Prime number\")\n",
    "else:\n",
    "    print(\"Not prime number\")"
   ]
  },
  {
   "cell_type": "code",
   "execution_count": null,
   "metadata": {},
   "outputs": [],
   "source": []
  }
 ],
 "metadata": {
  "kernelspec": {
   "display_name": "Python 3",
   "language": "python",
   "name": "python3"
  },
  "language_info": {
   "codemirror_mode": {
    "name": "ipython",
    "version": 3
   },
   "file_extension": ".py",
   "mimetype": "text/x-python",
   "name": "python",
   "nbconvert_exporter": "python",
   "pygments_lexer": "ipython3",
   "version": "3.7.6"
  }
 },
 "nbformat": 4,
 "nbformat_minor": 4
}

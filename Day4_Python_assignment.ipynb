{
 "cells": [
  {
   "cell_type": "code",
   "execution_count": null,
   "metadata": {},
   "outputs": [
    {
     "name": "stdout",
     "output_type": "stream",
     "text": [
      "Enter string:what we think we become; we are Python programmer\n",
      "Enter word:we\n",
      "Count of the word 'we' is: 3\n",
      "index of 'we' in string\n",
      "5\n",
      "14\n",
      "25\n"
     ]
    }
   ],
   "source": [
    "'''\n",
    "Q1) Find all ocuurance of substring in the given string\n",
    "'''\n",
    "string=input(\"Enter string:\")\n",
    "word=input(\"Enter word:\")\n",
    "Count=string.count(word)\n",
    "print(\"Count of the word '%s' is:\"%word,Count)\n",
    "print(\"index of '%s' in string\"%word)\n",
    "if string.find(word) == 0:\n",
    "    print(0)\n",
    "\n",
    "k=0\n",
    "while k <= len(string):\n",
    "    Pos=string.find(word,k+1)\n",
    "    if Pos >=0:\n",
    "        print(Pos)\n",
    "        k = Pos + k"
   ]
  },
  {
   "cell_type": "code",
   "execution_count": 1,
   "metadata": {},
   "outputs": [
    {
     "data": {
      "text/plain": [
       "True"
      ]
     },
     "execution_count": 1,
     "metadata": {},
     "output_type": "execute_result"
    }
   ],
   "source": [
    "'''\n",
    "Q2) islower & isupper\n",
    "'''\n",
    "Str=\"abcde\"\n",
    "Str.islower()"
   ]
  },
  {
   "cell_type": "code",
   "execution_count": 2,
   "metadata": {},
   "outputs": [
    {
     "data": {
      "text/plain": [
       "True"
      ]
     },
     "execution_count": 2,
     "metadata": {},
     "output_type": "execute_result"
    }
   ],
   "source": [
    "Str=\"ABCDE\"\n",
    "Str.isupper()"
   ]
  },
  {
   "cell_type": "code",
   "execution_count": 3,
   "metadata": {},
   "outputs": [
    {
     "data": {
      "text/plain": [
       "False"
      ]
     },
     "execution_count": 3,
     "metadata": {},
     "output_type": "execute_result"
    }
   ],
   "source": [
    "Str=\"ABcdE\"\n",
    "Str.isupper()"
   ]
  },
  {
   "cell_type": "code",
   "execution_count": 4,
   "metadata": {},
   "outputs": [
    {
     "name": "stdout",
     "output_type": "stream",
     "text": [
      "Lower\n"
     ]
    }
   ],
   "source": [
    "Str=\"abcdef\"\n",
    "if Str.islower():\n",
    "    print(\"Lower\")"
   ]
  },
  {
   "cell_type": "code",
   "execution_count": 5,
   "metadata": {},
   "outputs": [
    {
     "name": "stdout",
     "output_type": "stream",
     "text": [
      "ABCDEF\n"
     ]
    }
   ],
   "source": [
    "Str=\"abcdef\"\n",
    "if Str.islower():\n",
    "    print(Str.upper())"
   ]
  },
  {
   "cell_type": "code",
   "execution_count": 6,
   "metadata": {},
   "outputs": [
    {
     "name": "stdout",
     "output_type": "stream",
     "text": [
      "Upper\n"
     ]
    }
   ],
   "source": [
    "Str=\"ABCDEF\"\n",
    "if Str.isupper():\n",
    "    print(\"Upper\")"
   ]
  },
  {
   "cell_type": "code",
   "execution_count": 7,
   "metadata": {},
   "outputs": [
    {
     "name": "stdout",
     "output_type": "stream",
     "text": [
      "abcdef\n"
     ]
    }
   ],
   "source": [
    "Str=\"ABCDEF\"\n",
    "if Str.isupper():\n",
    "    print(Str.lower())"
   ]
  },
  {
   "cell_type": "code",
   "execution_count": null,
   "metadata": {},
   "outputs": [],
   "source": []
  }
 ],
 "metadata": {
  "kernelspec": {
   "display_name": "Python 3",
   "language": "python",
   "name": "python3"
  },
  "language_info": {
   "codemirror_mode": {
    "name": "ipython",
    "version": 3
   },
   "file_extension": ".py",
   "mimetype": "text/x-python",
   "name": "python",
   "nbconvert_exporter": "python",
   "pygments_lexer": "ipython3",
   "version": "3.7.6"
  }
 },
 "nbformat": 4,
 "nbformat_minor": 4
}
